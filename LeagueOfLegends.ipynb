{
 "metadata": {
  "language_info": {
   "codemirror_mode": {
    "name": "ipython",
    "version": 3
   },
   "file_extension": ".py",
   "mimetype": "text/x-python",
   "name": "python",
   "nbconvert_exporter": "python",
   "pygments_lexer": "ipython3",
   "version": "3.8.5-final"
  },
  "orig_nbformat": 2,
  "kernelspec": {
   "name": "python3",
   "display_name": "Python 3.8.5 64-bit (conda)",
   "metadata": {
    "interpreter": {
     "hash": "99064245c46dbc2db7b8d07c159760823b724f885b81547d07dd383c67373287"
    }
   }
  }
 },
 "nbformat": 4,
 "nbformat_minor": 2,
 "cells": [
  {
   "cell_type": "code",
   "execution_count": 1,
   "metadata": {},
   "outputs": [],
   "source": [
    "import pandas as pd\n",
    "import matplotlib.pyplot as plt\n",
    "import seaborn as sns\n",
    "import scipy as sc\n",
    "import numpy as np\n"
   ]
  },
  {
   "cell_type": "code",
   "execution_count": 2,
   "metadata": {},
   "outputs": [],
   "source": [
    "LOL_data = pd.read_csv(\"high_diamond_ranked_10min.csv\")\n",
    "del LOL_data[\"gameId\"] #for the model we wont need gameId column"
   ]
  },
  {
   "cell_type": "code",
   "execution_count": 3,
   "metadata": {},
   "outputs": [
    {
     "output_type": "execute_result",
     "data": {
      "text/plain": [
       "      blueWins  blueWardsPlaced  blueWardsDestroyed  blueFirstBlood  \\\n",
       "0            0               28                   2               1   \n",
       "1            0               12                   1               0   \n",
       "2            0               15                   0               0   \n",
       "3            0               43                   1               0   \n",
       "4            0               75                   4               0   \n",
       "...        ...              ...                 ...             ...   \n",
       "9874         1               17                   2               1   \n",
       "9875         1               54                   0               0   \n",
       "9876         0               23                   1               0   \n",
       "9877         0               14                   4               1   \n",
       "9878         1               18                   0               1   \n",
       "\n",
       "      blueKills  blueDeaths  blueAssists  blueEliteMonsters  blueDragons  \\\n",
       "0             9           6           11                  0            0   \n",
       "1             5           5            5                  0            0   \n",
       "2             7          11            4                  1            1   \n",
       "3             4           5            5                  1            0   \n",
       "4             6           6            6                  0            0   \n",
       "...         ...         ...          ...                ...          ...   \n",
       "9874          7           4            5                  1            1   \n",
       "9875          6           4            8                  1            1   \n",
       "9876          6           7            5                  0            0   \n",
       "9877          2           3            3                  1            1   \n",
       "9878          6           6            5                  0            0   \n",
       "\n",
       "      blueHeralds  ...  redTowersDestroyed  redTotalGold  redAvgLevel  \\\n",
       "0               0  ...                   0         16567          6.8   \n",
       "1               0  ...                   1         17620          6.8   \n",
       "2               0  ...                   0         17285          6.8   \n",
       "3               1  ...                   0         16478          7.0   \n",
       "4               0  ...                   0         17404          7.0   \n",
       "...           ...  ...                 ...           ...          ...   \n",
       "9874            0  ...                   0         15246          6.8   \n",
       "9875            0  ...                   0         15456          7.0   \n",
       "9876            0  ...                   0         18319          7.4   \n",
       "9877            0  ...                   0         15298          7.2   \n",
       "9878            0  ...                   0         15339          6.8   \n",
       "\n",
       "      redTotalExperience  redTotalMinionsKilled  redTotalJungleMinionsKilled  \\\n",
       "0                  17047                    197                           55   \n",
       "1                  17438                    240                           52   \n",
       "2                  17254                    203                           28   \n",
       "3                  17961                    235                           47   \n",
       "4                  18313                    225                           67   \n",
       "...                  ...                    ...                          ...   \n",
       "9874               16498                    229                           34   \n",
       "9875               18367                    206                           56   \n",
       "9876               19909                    261                           60   \n",
       "9877               18314                    247                           40   \n",
       "9878               17379                    201                           46   \n",
       "\n",
       "      redGoldDiff  redExperienceDiff  redCSPerMin  redGoldPerMin  \n",
       "0            -643                  8         19.7         1656.7  \n",
       "1            2908               1173         24.0         1762.0  \n",
       "2            1172               1033         20.3         1728.5  \n",
       "3            1321                  7         23.5         1647.8  \n",
       "4            1004               -230         22.5         1740.4  \n",
       "...           ...                ...          ...            ...  \n",
       "9874        -2519              -2469         22.9         1524.6  \n",
       "9875         -782               -888         20.6         1545.6  \n",
       "9876         2416               1877         26.1         1831.9  \n",
       "9877          839               1085         24.7         1529.8  \n",
       "9878         -927                 58         20.1         1533.9  \n",
       "\n",
       "[9879 rows x 39 columns]"
      ],
      "text/html": "<div>\n<style scoped>\n    .dataframe tbody tr th:only-of-type {\n        vertical-align: middle;\n    }\n\n    .dataframe tbody tr th {\n        vertical-align: top;\n    }\n\n    .dataframe thead th {\n        text-align: right;\n    }\n</style>\n<table border=\"1\" class=\"dataframe\">\n  <thead>\n    <tr style=\"text-align: right;\">\n      <th></th>\n      <th>blueWins</th>\n      <th>blueWardsPlaced</th>\n      <th>blueWardsDestroyed</th>\n      <th>blueFirstBlood</th>\n      <th>blueKills</th>\n      <th>blueDeaths</th>\n      <th>blueAssists</th>\n      <th>blueEliteMonsters</th>\n      <th>blueDragons</th>\n      <th>blueHeralds</th>\n      <th>...</th>\n      <th>redTowersDestroyed</th>\n      <th>redTotalGold</th>\n      <th>redAvgLevel</th>\n      <th>redTotalExperience</th>\n      <th>redTotalMinionsKilled</th>\n      <th>redTotalJungleMinionsKilled</th>\n      <th>redGoldDiff</th>\n      <th>redExperienceDiff</th>\n      <th>redCSPerMin</th>\n      <th>redGoldPerMin</th>\n    </tr>\n  </thead>\n  <tbody>\n    <tr>\n      <th>0</th>\n      <td>0</td>\n      <td>28</td>\n      <td>2</td>\n      <td>1</td>\n      <td>9</td>\n      <td>6</td>\n      <td>11</td>\n      <td>0</td>\n      <td>0</td>\n      <td>0</td>\n      <td>...</td>\n      <td>0</td>\n      <td>16567</td>\n      <td>6.8</td>\n      <td>17047</td>\n      <td>197</td>\n      <td>55</td>\n      <td>-643</td>\n      <td>8</td>\n      <td>19.7</td>\n      <td>1656.7</td>\n    </tr>\n    <tr>\n      <th>1</th>\n      <td>0</td>\n      <td>12</td>\n      <td>1</td>\n      <td>0</td>\n      <td>5</td>\n      <td>5</td>\n      <td>5</td>\n      <td>0</td>\n      <td>0</td>\n      <td>0</td>\n      <td>...</td>\n      <td>1</td>\n      <td>17620</td>\n      <td>6.8</td>\n      <td>17438</td>\n      <td>240</td>\n      <td>52</td>\n      <td>2908</td>\n      <td>1173</td>\n      <td>24.0</td>\n      <td>1762.0</td>\n    </tr>\n    <tr>\n      <th>2</th>\n      <td>0</td>\n      <td>15</td>\n      <td>0</td>\n      <td>0</td>\n      <td>7</td>\n      <td>11</td>\n      <td>4</td>\n      <td>1</td>\n      <td>1</td>\n      <td>0</td>\n      <td>...</td>\n      <td>0</td>\n      <td>17285</td>\n      <td>6.8</td>\n      <td>17254</td>\n      <td>203</td>\n      <td>28</td>\n      <td>1172</td>\n      <td>1033</td>\n      <td>20.3</td>\n      <td>1728.5</td>\n    </tr>\n    <tr>\n      <th>3</th>\n      <td>0</td>\n      <td>43</td>\n      <td>1</td>\n      <td>0</td>\n      <td>4</td>\n      <td>5</td>\n      <td>5</td>\n      <td>1</td>\n      <td>0</td>\n      <td>1</td>\n      <td>...</td>\n      <td>0</td>\n      <td>16478</td>\n      <td>7.0</td>\n      <td>17961</td>\n      <td>235</td>\n      <td>47</td>\n      <td>1321</td>\n      <td>7</td>\n      <td>23.5</td>\n      <td>1647.8</td>\n    </tr>\n    <tr>\n      <th>4</th>\n      <td>0</td>\n      <td>75</td>\n      <td>4</td>\n      <td>0</td>\n      <td>6</td>\n      <td>6</td>\n      <td>6</td>\n      <td>0</td>\n      <td>0</td>\n      <td>0</td>\n      <td>...</td>\n      <td>0</td>\n      <td>17404</td>\n      <td>7.0</td>\n      <td>18313</td>\n      <td>225</td>\n      <td>67</td>\n      <td>1004</td>\n      <td>-230</td>\n      <td>22.5</td>\n      <td>1740.4</td>\n    </tr>\n    <tr>\n      <th>...</th>\n      <td>...</td>\n      <td>...</td>\n      <td>...</td>\n      <td>...</td>\n      <td>...</td>\n      <td>...</td>\n      <td>...</td>\n      <td>...</td>\n      <td>...</td>\n      <td>...</td>\n      <td>...</td>\n      <td>...</td>\n      <td>...</td>\n      <td>...</td>\n      <td>...</td>\n      <td>...</td>\n      <td>...</td>\n      <td>...</td>\n      <td>...</td>\n      <td>...</td>\n      <td>...</td>\n    </tr>\n    <tr>\n      <th>9874</th>\n      <td>1</td>\n      <td>17</td>\n      <td>2</td>\n      <td>1</td>\n      <td>7</td>\n      <td>4</td>\n      <td>5</td>\n      <td>1</td>\n      <td>1</td>\n      <td>0</td>\n      <td>...</td>\n      <td>0</td>\n      <td>15246</td>\n      <td>6.8</td>\n      <td>16498</td>\n      <td>229</td>\n      <td>34</td>\n      <td>-2519</td>\n      <td>-2469</td>\n      <td>22.9</td>\n      <td>1524.6</td>\n    </tr>\n    <tr>\n      <th>9875</th>\n      <td>1</td>\n      <td>54</td>\n      <td>0</td>\n      <td>0</td>\n      <td>6</td>\n      <td>4</td>\n      <td>8</td>\n      <td>1</td>\n      <td>1</td>\n      <td>0</td>\n      <td>...</td>\n      <td>0</td>\n      <td>15456</td>\n      <td>7.0</td>\n      <td>18367</td>\n      <td>206</td>\n      <td>56</td>\n      <td>-782</td>\n      <td>-888</td>\n      <td>20.6</td>\n      <td>1545.6</td>\n    </tr>\n    <tr>\n      <th>9876</th>\n      <td>0</td>\n      <td>23</td>\n      <td>1</td>\n      <td>0</td>\n      <td>6</td>\n      <td>7</td>\n      <td>5</td>\n      <td>0</td>\n      <td>0</td>\n      <td>0</td>\n      <td>...</td>\n      <td>0</td>\n      <td>18319</td>\n      <td>7.4</td>\n      <td>19909</td>\n      <td>261</td>\n      <td>60</td>\n      <td>2416</td>\n      <td>1877</td>\n      <td>26.1</td>\n      <td>1831.9</td>\n    </tr>\n    <tr>\n      <th>9877</th>\n      <td>0</td>\n      <td>14</td>\n      <td>4</td>\n      <td>1</td>\n      <td>2</td>\n      <td>3</td>\n      <td>3</td>\n      <td>1</td>\n      <td>1</td>\n      <td>0</td>\n      <td>...</td>\n      <td>0</td>\n      <td>15298</td>\n      <td>7.2</td>\n      <td>18314</td>\n      <td>247</td>\n      <td>40</td>\n      <td>839</td>\n      <td>1085</td>\n      <td>24.7</td>\n      <td>1529.8</td>\n    </tr>\n    <tr>\n      <th>9878</th>\n      <td>1</td>\n      <td>18</td>\n      <td>0</td>\n      <td>1</td>\n      <td>6</td>\n      <td>6</td>\n      <td>5</td>\n      <td>0</td>\n      <td>0</td>\n      <td>0</td>\n      <td>...</td>\n      <td>0</td>\n      <td>15339</td>\n      <td>6.8</td>\n      <td>17379</td>\n      <td>201</td>\n      <td>46</td>\n      <td>-927</td>\n      <td>58</td>\n      <td>20.1</td>\n      <td>1533.9</td>\n    </tr>\n  </tbody>\n</table>\n<p>9879 rows × 39 columns</p>\n</div>"
     },
     "metadata": {},
     "execution_count": 3
    }
   ],
   "source": [
    "LOL_data"
   ]
  },
  {
   "cell_type": "code",
   "execution_count": 4,
   "metadata": {},
   "outputs": [],
   "source": [
    "def basic_info(df):\n",
    "    return {\"shape\":df.shape,\n",
    "             \"columns\":list(df.columns),\n",
    "             \"Nas\":df.isna().sum(),\n",
    "             \"info\":df.info(),\n",
    "             \"describe\":df.describe()}"
   ]
  },
  {
   "cell_type": "code",
   "execution_count": 5,
   "metadata": {},
   "outputs": [
    {
     "output_type": "stream",
     "name": "stdout",
     "text": [
      "<class 'pandas.core.frame.DataFrame'>\nRangeIndex: 9879 entries, 0 to 9878\nData columns (total 39 columns):\n #   Column                        Non-Null Count  Dtype  \n---  ------                        --------------  -----  \n 0   blueWins                      9879 non-null   int64  \n 1   blueWardsPlaced               9879 non-null   int64  \n 2   blueWardsDestroyed            9879 non-null   int64  \n 3   blueFirstBlood                9879 non-null   int64  \n 4   blueKills                     9879 non-null   int64  \n 5   blueDeaths                    9879 non-null   int64  \n 6   blueAssists                   9879 non-null   int64  \n 7   blueEliteMonsters             9879 non-null   int64  \n 8   blueDragons                   9879 non-null   int64  \n 9   blueHeralds                   9879 non-null   int64  \n 10  blueTowersDestroyed           9879 non-null   int64  \n 11  blueTotalGold                 9879 non-null   int64  \n 12  blueAvgLevel                  9879 non-null   float64\n 13  blueTotalExperience           9879 non-null   int64  \n 14  blueTotalMinionsKilled        9879 non-null   int64  \n 15  blueTotalJungleMinionsKilled  9879 non-null   int64  \n 16  blueGoldDiff                  9879 non-null   int64  \n 17  blueExperienceDiff            9879 non-null   int64  \n 18  blueCSPerMin                  9879 non-null   float64\n 19  blueGoldPerMin                9879 non-null   float64\n 20  redWardsPlaced                9879 non-null   int64  \n 21  redWardsDestroyed             9879 non-null   int64  \n 22  redFirstBlood                 9879 non-null   int64  \n 23  redKills                      9879 non-null   int64  \n 24  redDeaths                     9879 non-null   int64  \n 25  redAssists                    9879 non-null   int64  \n 26  redEliteMonsters              9879 non-null   int64  \n 27  redDragons                    9879 non-null   int64  \n 28  redHeralds                    9879 non-null   int64  \n 29  redTowersDestroyed            9879 non-null   int64  \n 30  redTotalGold                  9879 non-null   int64  \n 31  redAvgLevel                   9879 non-null   float64\n 32  redTotalExperience            9879 non-null   int64  \n 33  redTotalMinionsKilled         9879 non-null   int64  \n 34  redTotalJungleMinionsKilled   9879 non-null   int64  \n 35  redGoldDiff                   9879 non-null   int64  \n 36  redExperienceDiff             9879 non-null   int64  \n 37  redCSPerMin                   9879 non-null   float64\n 38  redGoldPerMin                 9879 non-null   float64\ndtypes: float64(6), int64(33)\nmemory usage: 2.9 MB\n"
     ]
    },
    {
     "output_type": "execute_result",
     "data": {
      "text/plain": [
       "{'shape': (9879, 39),\n",
       " 'columns': ['blueWins',\n",
       "  'blueWardsPlaced',\n",
       "  'blueWardsDestroyed',\n",
       "  'blueFirstBlood',\n",
       "  'blueKills',\n",
       "  'blueDeaths',\n",
       "  'blueAssists',\n",
       "  'blueEliteMonsters',\n",
       "  'blueDragons',\n",
       "  'blueHeralds',\n",
       "  'blueTowersDestroyed',\n",
       "  'blueTotalGold',\n",
       "  'blueAvgLevel',\n",
       "  'blueTotalExperience',\n",
       "  'blueTotalMinionsKilled',\n",
       "  'blueTotalJungleMinionsKilled',\n",
       "  'blueGoldDiff',\n",
       "  'blueExperienceDiff',\n",
       "  'blueCSPerMin',\n",
       "  'blueGoldPerMin',\n",
       "  'redWardsPlaced',\n",
       "  'redWardsDestroyed',\n",
       "  'redFirstBlood',\n",
       "  'redKills',\n",
       "  'redDeaths',\n",
       "  'redAssists',\n",
       "  'redEliteMonsters',\n",
       "  'redDragons',\n",
       "  'redHeralds',\n",
       "  'redTowersDestroyed',\n",
       "  'redTotalGold',\n",
       "  'redAvgLevel',\n",
       "  'redTotalExperience',\n",
       "  'redTotalMinionsKilled',\n",
       "  'redTotalJungleMinionsKilled',\n",
       "  'redGoldDiff',\n",
       "  'redExperienceDiff',\n",
       "  'redCSPerMin',\n",
       "  'redGoldPerMin'],\n",
       " 'Nas': blueWins                        0\n",
       " blueWardsPlaced                 0\n",
       " blueWardsDestroyed              0\n",
       " blueFirstBlood                  0\n",
       " blueKills                       0\n",
       " blueDeaths                      0\n",
       " blueAssists                     0\n",
       " blueEliteMonsters               0\n",
       " blueDragons                     0\n",
       " blueHeralds                     0\n",
       " blueTowersDestroyed             0\n",
       " blueTotalGold                   0\n",
       " blueAvgLevel                    0\n",
       " blueTotalExperience             0\n",
       " blueTotalMinionsKilled          0\n",
       " blueTotalJungleMinionsKilled    0\n",
       " blueGoldDiff                    0\n",
       " blueExperienceDiff              0\n",
       " blueCSPerMin                    0\n",
       " blueGoldPerMin                  0\n",
       " redWardsPlaced                  0\n",
       " redWardsDestroyed               0\n",
       " redFirstBlood                   0\n",
       " redKills                        0\n",
       " redDeaths                       0\n",
       " redAssists                      0\n",
       " redEliteMonsters                0\n",
       " redDragons                      0\n",
       " redHeralds                      0\n",
       " redTowersDestroyed              0\n",
       " redTotalGold                    0\n",
       " redAvgLevel                     0\n",
       " redTotalExperience              0\n",
       " redTotalMinionsKilled           0\n",
       " redTotalJungleMinionsKilled     0\n",
       " redGoldDiff                     0\n",
       " redExperienceDiff               0\n",
       " redCSPerMin                     0\n",
       " redGoldPerMin                   0\n",
       " dtype: int64,\n",
       " 'info': None,\n",
       " 'describe':           blueWins  blueWardsPlaced  blueWardsDestroyed  blueFirstBlood  \\\n",
       " count  9879.000000      9879.000000         9879.000000     9879.000000   \n",
       " mean      0.499038        22.288288            2.824881        0.504808   \n",
       " std       0.500024        18.019177            2.174998        0.500002   \n",
       " min       0.000000         5.000000            0.000000        0.000000   \n",
       " 25%       0.000000        14.000000            1.000000        0.000000   \n",
       " 50%       0.000000        16.000000            3.000000        1.000000   \n",
       " 75%       1.000000        20.000000            4.000000        1.000000   \n",
       " max       1.000000       250.000000           27.000000        1.000000   \n",
       " \n",
       "          blueKills   blueDeaths  blueAssists  blueEliteMonsters  blueDragons  \\\n",
       " count  9879.000000  9879.000000  9879.000000        9879.000000  9879.000000   \n",
       " mean      6.183925     6.137666     6.645106           0.549954     0.361980   \n",
       " std       3.011028     2.933818     4.064520           0.625527     0.480597   \n",
       " min       0.000000     0.000000     0.000000           0.000000     0.000000   \n",
       " 25%       4.000000     4.000000     4.000000           0.000000     0.000000   \n",
       " 50%       6.000000     6.000000     6.000000           0.000000     0.000000   \n",
       " 75%       8.000000     8.000000     9.000000           1.000000     1.000000   \n",
       " max      22.000000    22.000000    29.000000           2.000000     1.000000   \n",
       " \n",
       "        blueHeralds  ...  redTowersDestroyed  redTotalGold  redAvgLevel  \\\n",
       " count  9879.000000  ...         9879.000000   9879.000000  9879.000000   \n",
       " mean      0.187974  ...            0.043021  16489.041401     6.925316   \n",
       " std       0.390712  ...            0.216900   1490.888406     0.305311   \n",
       " min       0.000000  ...            0.000000  11212.000000     4.800000   \n",
       " 25%       0.000000  ...            0.000000  15427.500000     6.800000   \n",
       " 50%       0.000000  ...            0.000000  16378.000000     7.000000   \n",
       " 75%       0.000000  ...            0.000000  17418.500000     7.200000   \n",
       " max       1.000000  ...            2.000000  22732.000000     8.200000   \n",
       " \n",
       "        redTotalExperience  redTotalMinionsKilled  redTotalJungleMinionsKilled  \\\n",
       " count         9879.000000            9879.000000                  9879.000000   \n",
       " mean         17961.730438             217.349226                    51.313088   \n",
       " std           1198.583912              21.911668                    10.027885   \n",
       " min          10465.000000             107.000000                     4.000000   \n",
       " 25%          17209.500000             203.000000                    44.000000   \n",
       " 50%          17974.000000             218.000000                    51.000000   \n",
       " 75%          18764.500000             233.000000                    57.000000   \n",
       " max          22269.000000             289.000000                    92.000000   \n",
       " \n",
       "         redGoldDiff  redExperienceDiff  redCSPerMin  redGoldPerMin  \n",
       " count   9879.000000        9879.000000  9879.000000    9879.000000  \n",
       " mean     -14.414111          33.620306    21.734923    1648.904140  \n",
       " std     2453.349179        1920.370438     2.191167     149.088841  \n",
       " min   -11467.000000       -8348.000000    10.700000    1121.200000  \n",
       " 25%    -1596.000000       -1212.000000    20.300000    1542.750000  \n",
       " 50%      -14.000000          28.000000    21.800000    1637.800000  \n",
       " 75%     1585.500000        1290.500000    23.300000    1741.850000  \n",
       " max    10830.000000        9333.000000    28.900000    2273.200000  \n",
       " \n",
       " [8 rows x 39 columns]}"
      ]
     },
     "metadata": {},
     "execution_count": 5
    }
   ],
   "source": [
    "basic_info(LOL_data) #we have no missing values\n",
    "#we can also see here some basics descriptive statistics and info about the features of the dataset."
   ]
  },
  {
   "source": [
    "There is nothing much to do about the clean process so let's proceed to do some EDA."
   ],
   "cell_type": "markdown",
   "metadata": {}
  },
  {
   "source": [
    "## EDA (Exploratory Data Analysis)"
   ],
   "cell_type": "markdown",
   "metadata": {}
  }
 ]
}